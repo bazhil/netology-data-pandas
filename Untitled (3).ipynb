{
 "cells": [
  {
   "cell_type": "code",
   "execution_count": 3,
   "metadata": {},
   "outputs": [],
   "source": [
    "import os\n",
    "import pandas as pd\n",
    "import numpy as np\n",
    "import matplotlib.pyplot as plt\n",
    "from pandas import read_csv\n",
    "%matplotlib inline"
   ]
  },
  {
   "cell_type": "code",
   "execution_count": 5,
   "metadata": {},
   "outputs": [],
   "source": [
    "data_path = os.path.join('C:\\\\Users\\\\name\\\\Documents\\\\netology courses\\\\works with data\\\\names\\\\')\n",
    "# yob_1950 = os.path.join('C:\\\\Users\\\\name\\\\Documents\\\\netology courses\\\\works with data\\\\names\\\\yob1950.txt')\n",
    "# yob_2000 = os.path.join('C:\\\\Users\\\\name\\\\Documents\\\\netology courses\\\\works with data\\\\names\\\\yob2000.txt')"
   ]
  },
  {
   "cell_type": "code",
   "execution_count": 64,
   "metadata": {},
   "outputs": [],
   "source": [
    "# names_1900 = pd.read_csv(data_path + '\\\\' + 'yob1900.txt', names=['Name', 'Gender', 'Count']).head(3)"
   ]
  },
  {
   "cell_type": "code",
   "execution_count": 48,
   "metadata": {},
   "outputs": [],
   "source": [
    "# sort_names_1900 = names_1900.sort_values(by=\n",
    "# 'Count', ascending=False)"
   ]
  },
  {
   "cell_type": "code",
   "execution_count": 12,
   "metadata": {},
   "outputs": [
    {
     "data": {
      "text/html": [
       "<div>\n",
       "<style>\n",
       "    .dataframe thead tr:only-child th {\n",
       "        text-align: right;\n",
       "    }\n",
       "\n",
       "    .dataframe thead th {\n",
       "        text-align: left;\n",
       "    }\n",
       "\n",
       "    .dataframe tbody tr th {\n",
       "        vertical-align: top;\n",
       "    }\n",
       "</style>\n",
       "<table border=\"1\" class=\"dataframe\">\n",
       "  <thead>\n",
       "    <tr style=\"text-align: right;\">\n",
       "      <th></th>\n",
       "      <th>Name</th>\n",
       "      <th>Gender</th>\n",
       "      <th>Count</th>\n",
       "    </tr>\n",
       "  </thead>\n",
       "  <tbody>\n",
       "    <tr>\n",
       "      <th>0</th>\n",
       "      <td>Mary</td>\n",
       "      <td>F</td>\n",
       "      <td>16706</td>\n",
       "    </tr>\n",
       "    <tr>\n",
       "      <th>1</th>\n",
       "      <td>Helen</td>\n",
       "      <td>F</td>\n",
       "      <td>6343</td>\n",
       "    </tr>\n",
       "    <tr>\n",
       "      <th>2</th>\n",
       "      <td>Anna</td>\n",
       "      <td>F</td>\n",
       "      <td>6114</td>\n",
       "    </tr>\n",
       "  </tbody>\n",
       "</table>\n",
       "</div>"
      ],
      "text/plain": [
       "    Name Gender  Count\n",
       "0   Mary      F  16706\n",
       "1  Helen      F   6343\n",
       "2   Anna      F   6114"
      ]
     },
     "execution_count": 12,
     "metadata": {},
     "output_type": "execute_result"
    }
   ],
   "source": [
    "def twenty_century_names():\n",
    "    cols = ['Name', 'Gender', 'Count']\n",
    "    names_1900 = pd.read_csv(data_path + 'yob1900.txt', names=cols)\n",
    "    names_1950 = pd.read_csv(data_path + 'yob1950.txt', names=cols)\n",
    "    names_2000 = pd.read_csv(data_path + 'yob2000.txt', names=cols)\n",
    "    names_3 = [names_1900, names_1950, names_2000]\n",
    "    df = pd.DataFrame(data=names_3)\n",
    "    names_1900_1950_2000 = pd.concat(names_3)\n",
    "    return names_1900_1950_2000.head(3)\n",
    "twenty_century_names()    "
   ]
  },
  {
   "cell_type": "code",
   "execution_count": 19,
   "metadata": {},
   "outputs": [
    {
     "name": "stdout",
     "output_type": "stream",
     "text": [
      "F: [299810, 1713259, 1814922] [150486, 1790871, 1962744]\n"
     ]
    }
   ],
   "source": [
    "def gender_count():\n",
    "    boys = []\n",
    "    girls = []\n",
    "    names_1900 = pd.read_csv(data_path + 'yob1900.txt', names=['Name', 'Gender', 'Count'])\n",
    "    names_1950 = pd.read_csv(data_path + 'yob1950.txt', names=['Name', 'Gender', 'Count'])\n",
    "    names_2000 = pd.read_csv(data_path + 'yob2000.txt', names=['Name', 'Gender', 'Count'])\n",
    "#     x=names_1900[names_1900.Gender=='M'].count.sum()\n",
    "#     names_1900.Count.sum()\n",
    "    boys.append(names_1900[names_1900.Gender == 'M'].Count.sum())\n",
    "    boys.append(names_1950[names_1950.Gender == 'M'].Count.sum())\n",
    "    boys.append(names_2000[names_2000.Gender == 'M'].Count.sum())\n",
    "    girls.append(names_1900[names_1900.Gender == 'F'].Count.sum())\n",
    "    girls.append(names_1950[names_1950.Gender == 'F'].Count.sum())\n",
    "    girls.append(names_2000[names_2000.Gender == 'F'].Count.sum()) \n",
    "    print('F:', girls, boys)\n",
    "#     return boys\n",
    "gender_count()"
   ]
  },
  {
   "cell_type": "code",
   "execution_count": null,
   "metadata": {},
   "outputs": [],
   "source": []
  },
  {
   "cell_type": "code",
   "execution_count": 13,
   "metadata": {},
   "outputs": [],
   "source": []
  }
 ],
 "metadata": {
  "kernelspec": {
   "display_name": "Python 3",
   "language": "python",
   "name": "python3"
  },
  "language_info": {
   "codemirror_mode": {
    "name": "ipython",
    "version": 3
   },
   "file_extension": ".py",
   "mimetype": "text/x-python",
   "name": "python",
   "nbconvert_exporter": "python",
   "pygments_lexer": "ipython3",
   "version": "3.6.3"
  }
 },
 "nbformat": 4,
 "nbformat_minor": 2
}
