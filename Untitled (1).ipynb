{
 "cells": [
  {
   "cell_type": "code",
   "execution_count": 32,
   "metadata": {},
   "outputs": [],
   "source": [
    "import os\n",
    "import pandas as pd\n",
    "import numpy as np\n",
    "import matplotlib.pyplot as plt\n",
    "from pandas import read_csv\n",
    "%matplotlib inline"
   ]
  },
  {
   "cell_type": "code",
   "execution_count": 17,
   "metadata": {},
   "outputs": [],
   "source": [
    "data_path = os.path.join('C:\\\\Users\\\\name\\\\Documents\\\\netology courses\\\\works with data\\\\names\\\\')\n",
    "# yob_1950 = os.path.join('C:\\\\Users\\\\name\\\\Documents\\\\netology courses\\\\works with data\\\\names\\\\yob1950.txt')\n",
    "# yob_2000 = os.path.join('C:\\\\Users\\\\name\\\\Documents\\\\netology courses\\\\works with data\\\\names\\\\yob2000.txt')"
   ]
  },
  {
   "cell_type": "code",
   "execution_count": 64,
   "metadata": {},
   "outputs": [],
   "source": [
    "# names_1900 = pd.read_csv(data_path + '\\\\' + 'yob1900.txt', names=['Name', 'Gender', 'Count']).head(3)"
   ]
  },
  {
   "cell_type": "code",
   "execution_count": 48,
   "metadata": {},
   "outputs": [],
   "source": [
    "# sort_names_1900 = names_1900.sort_values(by=\n",
    "# 'Count', ascending=False)"
   ]
  },
  {
   "cell_type": "code",
   "execution_count": 50,
   "metadata": {},
   "outputs": [
    {
     "data": {
      "text/html": [
       "<div>\n",
       "<style>\n",
       "    .dataframe thead tr:only-child th {\n",
       "        text-align: right;\n",
       "    }\n",
       "\n",
       "    .dataframe thead th {\n",
       "        text-align: left;\n",
       "    }\n",
       "\n",
       "    .dataframe tbody tr th {\n",
       "        vertical-align: top;\n",
       "    }\n",
       "</style>\n",
       "<table border=\"1\" class=\"dataframe\">\n",
       "  <thead>\n",
       "    <tr style=\"text-align: right;\">\n",
       "      <th></th>\n",
       "      <th>Name</th>\n",
       "      <th>Gender</th>\n",
       "      <th>Count</th>\n",
       "    </tr>\n",
       "  </thead>\n",
       "  <tbody>\n",
       "    <tr>\n",
       "      <th>0</th>\n",
       "      <td>Flavia</td>\n",
       "      <td>F</td>\n",
       "      <td>7</td>\n",
       "    </tr>\n",
       "    <tr>\n",
       "      <th>1</th>\n",
       "      <td>Elex</td>\n",
       "      <td>M</td>\n",
       "      <td>5</td>\n",
       "    </tr>\n",
       "    <tr>\n",
       "      <th>2</th>\n",
       "      <td>Overton</td>\n",
       "      <td>M</td>\n",
       "      <td>5</td>\n",
       "    </tr>\n",
       "  </tbody>\n",
       "</table>\n",
       "</div>"
      ],
      "text/plain": [
       "      Name Gender  Count\n",
       "0   Flavia      F      7\n",
       "1     Elex      M      5\n",
       "2  Overton      M      5"
      ]
     },
     "execution_count": 50,
     "metadata": {},
     "output_type": "execute_result"
    }
   ],
   "source": [
    "def twenty_century_names():\n",
    "    cols = ['Name', 'Gender', 'Count']\n",
    "    names_1900 = pd.read_csv(data_path + 'yob1900.txt', names=cols)\n",
    "    names_1950 = pd.read_csv(data_path + 'yob1950.txt', names=cols)\n",
    "    names_2000 = pd.read_csv(data_path + 'yob2000.txt', names=cols)\n",
    "    names_1900_1950 = pd.merge(names_1900, names_1950)\n",
    "    # names_1900_1950.head(3)\n",
    "    names_1900_1950_2000 = pd.merge(names_1900_1950, names_2000)\n",
    "    return names_1900_1950_2000.head(3)\n",
    "twenty_century_names()    "
   ]
  },
  {
   "cell_type": "code",
   "execution_count": 52,
   "metadata": {},
   "outputs": [],
   "source": [
    "# def twenty_century_names_2():\n",
    "#     cols = ['Name', 'Gender', 'Count']\n",
    "#     names_1900 = pd.read_csv(data_path + 'yob1900.txt', names=cols)\n",
    "#     names_1950 = pd.read_csv(data_path + 'yob1950.txt', names=cols)\n",
    "#     names_2000 = pd.read_csv(data_path + 'yob2000.txt', names=cols)\n",
    "#     names_1900_1950 = pd.merge(names_1900, names_1950)\n",
    "#     # names_1900_1950.head(3)\n",
    "#     names_1900_1950_2000 = pd.merge(names_1900_1950, names_2000, on=['Name', 'Gender'], suffixies=('_1950', '_2000'))\n",
    "#     return names_1900_1950_2000.head(3)\n",
    "# twenty_century_names_2()    "
   ]
  },
  {
   "cell_type": "code",
   "execution_count": null,
   "metadata": {},
   "outputs": [],
   "source": []
  },
  {
   "cell_type": "code",
   "execution_count": 13,
   "metadata": {},
   "outputs": [],
   "source": []
  }
 ],
 "metadata": {
  "kernelspec": {
   "display_name": "Python 3",
   "language": "python",
   "name": "python3"
  },
  "language_info": {
   "codemirror_mode": {
    "name": "ipython",
    "version": 3
   },
   "file_extension": ".py",
   "mimetype": "text/x-python",
   "name": "python",
   "nbconvert_exporter": "python",
   "pygments_lexer": "ipython3",
   "version": "3.6.3"
  }
 },
 "nbformat": 4,
 "nbformat_minor": 2
}
